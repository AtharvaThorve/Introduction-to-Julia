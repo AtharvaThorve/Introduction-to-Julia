{
 "cells": [
  {
   "cell_type": "markdown",
   "metadata": {},
   "source": [
    "# Packages\n",
    "\n",
    "Julia has over 2000 registered packages, making packages a huge part of the Julia ecosystem.\n",
    "\n",
    "Even so, the package ecosystem still has some growing to do. Notably, we have first class function calls  to other languages, providing excellent foreign function interfaces. We can easily call into python or R, for example, with `PyCall` or `Rcall`.\n",
    "\n",
    "This means that you don't have to wait until the Julia ecosystem is fully mature, and that moving to Julia doesn't mean you have to give up your favorite package/library from another language! \n",
    "\n",
    "To see all available packages, check out\n",
    "\n",
    "https://julialang.org/packages/\n",
    "\n",
    "For now, let's learn how to use a package."
   ]
  },
  {
   "cell_type": "markdown",
   "metadata": {},
   "source": [
    "The first time you use a package on a given Julia installation, you need to use the package manager to explicitly add it:"
   ]
  },
  {
   "cell_type": "code",
   "execution_count": 1,
   "metadata": {},
   "outputs": [
    {
     "name": "stderr",
     "output_type": "stream",
     "text": [
      "\u001b[32m\u001b[1m   Resolving\u001b[22m\u001b[39m package versions...\n"
     ]
    },
    {
     "name": "stderr",
     "output_type": "stream",
     "text": [
      "\u001b[32m\u001b[1m  No Changes\u001b[22m\u001b[39m to `C:\\Data\\Code\\Introduction-to-Julia\\Project.toml`\n",
      "\u001b[32m\u001b[1m  No Changes\u001b[22m\u001b[39m to `C:\\Data\\Code\\Introduction-to-Julia\\Manifest.toml`"
     ]
    },
    {
     "name": "stderr",
     "output_type": "stream",
     "text": [
      "\n",
      "\u001b[32m\u001b[1mPrecompiling\u001b[22m\u001b[39m project..."
     ]
    },
    {
     "name": "stderr",
     "output_type": "stream",
     "text": [
      "\n"
     ]
    },
    {
     "name": "stderr",
     "output_type": "stream",
     "text": [
      "\u001b[32m  ✓ \u001b[39mExample\n"
     ]
    },
    {
     "name": "stderr",
     "output_type": "stream",
     "text": [
      "\u001b[32m  ✓ \u001b[39m\u001b[90mPipe\u001b[39m\n"
     ]
    },
    {
     "name": "stderr",
     "output_type": "stream",
     "text": [
      "\u001b[32m  ✓ \u001b[39m\u001b[90mCompat\u001b[39m\n",
      "\u001b[32m  ✓ \u001b[39m\u001b[90mDelimitedFiles\u001b[39m\n"
     ]
    },
    {
     "name": "stderr",
     "output_type": "stream",
     "text": [
      "\u001b[32m  ✓ \u001b[39m\u001b[90mRequires\u001b[39m\n",
      "\u001b[32m  ✓ \u001b[39m\u001b[90mOrderedCollections\u001b[39m\n"
     ]
    },
    {
     "name": "stderr",
     "output_type": "stream",
     "text": [
      "\u001b[32m  ✓ \u001b[39m\u001b[90mLaTeXStrings\u001b[39m\n"
     ]
    },
    {
     "name": "stderr",
     "output_type": "stream",
     "text": [
      "\u001b[32m  ✓ \u001b[39m\u001b[90mReexport\u001b[39m\n"
     ]
    },
    {
     "name": "stderr",
     "output_type": "stream",
     "text": [
      "\u001b[32m  ✓ \u001b[39m\u001b[90mMeasures\u001b[39m\n"
     ]
    },
    {
     "name": "stderr",
     "output_type": "stream",
     "text": [
      "\u001b[32m  ✓ \u001b[39m\u001b[90mUnzip\u001b[39m\n"
     ]
    },
    {
     "name": "stderr",
     "output_type": "stream",
     "text": [
      "\u001b[32m  ✓ \u001b[39m\u001b[90mDocStringExtensions\u001b[39m\n"
     ]
    },
    {
     "name": "stderr",
     "output_type": "stream",
     "text": [
      "\u001b[32m  ✓ \u001b[39m\u001b[90mSimpleBufferStream\u001b[39m\n"
     ]
    },
    {
     "name": "stderr",
     "output_type": "stream",
     "text": [
      "\u001b[32m  ✓ \u001b[39m\u001b[90mXorg_libICE_jll\u001b[39m\n"
     ]
    },
    {
     "name": "stderr",
     "output_type": "stream",
     "text": [
      "\u001b[32m  ✓ \u001b[39m\u001b[90mTensorCore\u001b[39m\n"
     ]
    },
    {
     "name": "stderr",
     "output_type": "stream",
     "text": [
      "\u001b[32m  ✓ \u001b[39m\u001b[90mDataAPI\u001b[39m\n",
      "\u001b[32m  ✓ \u001b[39m\u001b[90mStatsAPI\u001b[39m\n"
     ]
    },
    {
     "name": "stderr",
     "output_type": "stream",
     "text": [
      "\u001b[32m  ✓ \u001b[39m\u001b[90mIrrationalConstants\u001b[39m\n"
     ]
    },
    {
     "name": "stderr",
     "output_type": "stream",
     "text": [
      "\u001b[32m  ✓ \u001b[39m\u001b[90mCompilerSupportLibraries_jll\u001b[39m\n"
     ]
    },
    {
     "name": "stderr",
     "output_type": "stream",
     "text": [
      "\u001b[32m  ✓ \u001b[39m\u001b[90mBitFlags\u001b[39m\n"
     ]
    },
    {
     "name": "stderr",
     "output_type": "stream",
     "text": [
      "\u001b[32m  ✓ \u001b[39m\u001b[90mScratch\u001b[39m\n",
      "\u001b[32m  ✓ \u001b[39m\u001b[90mURIs\u001b[39m\n"
     ]
    },
    {
     "name": "stderr",
     "output_type": "stream",
     "text": [
      "\u001b[32m  ✓ \u001b[39m\u001b[90mContour\u001b[39m\n",
      "\u001b[32m  ✓ \u001b[39m\u001b[90mLoggingExtras\u001b[39m\n"
     ]
    },
    {
     "name": "stderr",
     "output_type": "stream",
     "text": [
      "\u001b[32m  ✓ \u001b[39m\u001b[90mFormatting\u001b[39m\n"
     ]
    },
    {
     "name": "stderr",
     "output_type": "stream",
     "text": [
      "\u001b[32m  ✓ \u001b[39m\u001b[90mStaticArraysCore\u001b[39m\n"
     ]
    },
    {
     "name": "stderr",
     "output_type": "stream",
     "text": [
      "\u001b[32m  ✓ \u001b[39m\u001b[90mConcurrentUtilities\u001b[39m\n"
     ]
    },
    {
     "name": "stderr",
     "output_type": "stream",
     "text": [
      "\u001b[32m  ✓ \u001b[39m\u001b[90mCrayons\u001b[39m\n"
     ]
    },
    {
     "name": "stderr",
     "output_type": "stream",
     "text": [
      "\u001b[32m  ✓ \u001b[39m\u001b[90mExceptionUnwrapping\u001b[39m\n"
     ]
    },
    {
     "name": "stderr",
     "output_type": "stream",
     "text": [
      "\u001b[32m  ✓ \u001b[39m\u001b[90mNaNMath\u001b[39m\n"
     ]
    },
    {
     "name": "stderr",
     "output_type": "stream",
     "text": [
      "\u001b[32m  ✓ \u001b[39m\u001b[90mTranscodingStreams\u001b[39m\n"
     ]
    },
    {
     "name": "stderr",
     "output_type": "stream",
     "text": [
      "\u001b[32m  ✓ \u001b[39m\u001b[90mGrisu\u001b[39m\n"
     ]
    },
    {
     "name": "stderr",
     "output_type": "stream",
     "text": [
      "\u001b[32m  ✓ \u001b[39m\u001b[90mUnicodeFun\u001b[39m\n",
      "\u001b[32m  ✓ \u001b[39m\u001b[90mMacroTools\u001b[39m\n"
     ]
    },
    {
     "name": "stderr",
     "output_type": "stream",
     "text": [
      "\u001b[32m  ✓ \u001b[39m\u001b[90mStatistics\u001b[39m\n",
      "\u001b[32m  ✓ \u001b[39m\u001b[90mfzf_jll\u001b[39m\n"
     ]
    },
    {
     "name": "stderr",
     "output_type": "stream",
     "text": [
      "\u001b[32m  ✓ \u001b[39m\u001b[90mRecipesBase\u001b[39m\n"
     ]
    },
    {
     "name": "stderr",
     "output_type": "stream",
     "text": [
      "\u001b[32m  ✓ \u001b[39m\u001b[90mOpenSSL_jll\u001b[39m\n",
      "\u001b[32m  ✓ \u001b[39m\u001b[90mOpus_jll\u001b[39m\n"
     ]
    },
    {
     "name": "stderr",
     "output_type": "stream",
     "text": [
      "\u001b[32m  ✓ \u001b[39m\u001b[90mJpegTurbo_jll\u001b[39m\n"
     ]
    },
    {
     "name": "stderr",
     "output_type": "stream",
     "text": [
      "\u001b[32m  ✓ \u001b[39m\u001b[90mmtdev_jll\u001b[39m\n"
     ]
    },
    {
     "name": "stderr",
     "output_type": "stream",
     "text": [
      "\u001b[32m  ✓ \u001b[39m\u001b[90mXZ_jll\u001b[39m\n"
     ]
    },
    {
     "name": "stderr",
     "output_type": "stream",
     "text": [
      "\u001b[32m  ✓ \u001b[39m\u001b[90mXorg_xtrans_jll\u001b[39m\n"
     ]
    },
    {
     "name": "stderr",
     "output_type": "stream",
     "text": [
      "\u001b[32m  ✓ \u001b[39m\u001b[90mgperf_jll\u001b[39m\n",
      "\u001b[32m  ✓ \u001b[39m\u001b[90mXorg_libXau_jll\u001b[39m\n"
     ]
    },
    {
     "name": "stderr",
     "output_type": "stream",
     "text": [
      "\u001b[32m  ✓ \u001b[39m\u001b[90mOgg_jll\u001b[39m\n"
     ]
    },
    {
     "name": "stderr",
     "output_type": "stream",
     "text": [
      "\u001b[32m  ✓ \u001b[39m\u001b[90mXorg_libXdmcp_jll\u001b[39m\n"
     ]
    },
    {
     "name": "stderr",
     "output_type": "stream",
     "text": [
      "\u001b[32m  ✓ \u001b[39m\u001b[90mlibpng_jll\u001b[39m\n"
     ]
    },
    {
     "name": "stderr",
     "output_type": "stream",
     "text": [
      "\u001b[32m  ✓ \u001b[39m\u001b[90mlibevdev_jll\u001b[39m\n"
     ]
    },
    {
     "name": "stderr",
     "output_type": "stream",
     "text": [
      "\u001b[32m  ✓ \u001b[39m\u001b[90mlibfdk_aac_jll\u001b[39m\n"
     ]
    },
    {
     "name": "stderr",
     "output_type": "stream",
     "text": [
      "\u001b[32m  ✓ \u001b[39m\u001b[90mx265_jll\u001b[39m\n"
     ]
    },
    {
     "name": "stderr",
     "output_type": "stream",
     "text": [
      "\u001b[32m  ✓ \u001b[39m\u001b[90mx264_jll\u001b[39m\n"
     ]
    },
    {
     "name": "stderr",
     "output_type": "stream",
     "text": [
      "\u001b[32m  ✓ \u001b[39m\u001b[90mlibaom_jll\u001b[39m\n"
     ]
    },
    {
     "name": "stderr",
     "output_type": "stream",
     "text": [
      "\u001b[32m  ✓ \u001b[39m\u001b[90mGraphite2_jll\u001b[39m\n"
     ]
    },
    {
     "name": "stderr",
     "output_type": "stream",
     "text": [
      "\u001b[32m  ✓ \u001b[39m\u001b[90mLibmount_jll\u001b[39m\n"
     ]
    },
    {
     "name": "stderr",
     "output_type": "stream",
     "text": [
      "\u001b[32m  ✓ \u001b[39m\u001b[90mLibiconv_jll\u001b[39m\n",
      "\u001b[32m  ✓ \u001b[39m\u001b[90mZstd_jll\u001b[39m\n"
     ]
    },
    {
     "name": "stderr",
     "output_type": "stream",
     "text": [
      "\u001b[32m  ✓ \u001b[39m\u001b[90mEpollShim_jll\u001b[39m\n"
     ]
    },
    {
     "name": "stderr",
     "output_type": "stream",
     "text": [
      "\u001b[32m  ✓ \u001b[39m\u001b[90mLibffi_jll\u001b[39m\n"
     ]
    },
    {
     "name": "stderr",
     "output_type": "stream",
     "text": [
      "\u001b[32m  ✓ \u001b[39m\u001b[90mLLVMOpenMP_jll\u001b[39m\n"
     ]
    },
    {
     "name": "stderr",
     "output_type": "stream",
     "text": [
      "\u001b[32m  ✓ \u001b[39m\u001b[90mBzip2_jll\u001b[39m\n"
     ]
    },
    {
     "name": "stderr",
     "output_type": "stream",
     "text": [
      "\u001b[32m  ✓ \u001b[39m\u001b[90mExpat_jll\u001b[39m\n"
     ]
    },
    {
     "name": "stderr",
     "output_type": "stream",
     "text": [
      "\u001b[32m  ✓ \u001b[39m\u001b[90mLibgpg_error_jll\u001b[39m\n"
     ]
    },
    {
     "name": "stderr",
     "output_type": "stream",
     "text": [
      "\u001b[32m  ✓ \u001b[39m\u001b[90mWayland_protocols_jll\u001b[39m\n"
     ]
    },
    {
     "name": "stderr",
     "output_type": "stream",
     "text": [
      "\u001b[32m  ✓ \u001b[39m\u001b[90mLZO_jll\u001b[39m\n"
     ]
    },
    {
     "name": "stderr",
     "output_type": "stream",
     "text": [
      "\u001b[32m  ✓ \u001b[39m\u001b[90mLAME_jll\u001b[39m\n"
     ]
    },
    {
     "name": "stderr",
     "output_type": "stream",
     "text": [
      "\u001b[32m  ✓ \u001b[39m\u001b[90mXorg_libpthread_stubs_jll\u001b[39m\n"
     ]
    },
    {
     "name": "stderr",
     "output_type": "stream",
     "text": [
      "\u001b[32m  ✓ \u001b[39m\u001b[90mLERC_jll\u001b[39m\n"
     ]
    },
    {
     "name": "stderr",
     "output_type": "stream",
     "text": [
      "\u001b[32m  ✓ \u001b[39m\u001b[90mFriBidi_jll\u001b[39m\n"
     ]
    },
    {
     "name": "stderr",
     "output_type": "stream",
     "text": [
      "\u001b[32m  ✓ \u001b[39m\u001b[90mLibuuid_jll\u001b[39m\n"
     ]
    },
    {
     "name": "stderr",
     "output_type": "stream",
     "text": [
      "\u001b[32m  ✓ \u001b[39m\u001b[90mCompat → CompatLinearAlgebraExt\u001b[39m\n"
     ]
    },
    {
     "name": "stderr",
     "output_type": "stream",
     "text": [
      "\u001b[32m  ✓ \u001b[39m\u001b[90mMissings\u001b[39m\n"
     ]
    },
    {
     "name": "stderr",
     "output_type": "stream",
     "text": [
      "\u001b[32m  ✓ \u001b[39m\u001b[90mRelocatableFolders\u001b[39m\n"
     ]
    },
    {
     "name": "stderr",
     "output_type": "stream",
     "text": [
      "\u001b[32m  ✓ \u001b[39m\u001b[90mShowoff\u001b[39m\n"
     ]
    },
    {
     "name": "stderr",
     "output_type": "stream",
     "text": [
      "\u001b[32m  ✓ \u001b[39m\u001b[90mXorg_libSM_jll\u001b[39m\n"
     ]
    },
    {
     "name": "stderr",
     "output_type": "stream",
     "text": [
      "\u001b[32m  ✓ \u001b[39m\u001b[90mTranscodingStreams → TestExt\u001b[39m\n"
     ]
    },
    {
     "name": "stderr",
     "output_type": "stream",
     "text": [
      "\u001b[32m  ✓ \u001b[39m\u001b[90mLogExpFunctions\u001b[39m\n"
     ]
    },
    {
     "name": "stderr",
     "output_type": "stream",
     "text": [
      "\u001b[32m  ✓ \u001b[39mBenchmarkTools\n"
     ]
    },
    {
     "name": "stderr",
     "output_type": "stream",
     "text": [
      "\u001b[32m  ✓ \u001b[39m\u001b[90mJLFzf\u001b[39m\n"
     ]
    },
    {
     "name": "stderr",
     "output_type": "stream",
     "text": [
      "\u001b[32m  ✓ \u001b[39m\u001b[90mFixedPointNumbers\u001b[39m\n"
     ]
    },
    {
     "name": "stderr",
     "output_type": "stream",
     "text": [
      "\u001b[32m  ✓ \u001b[39m\u001b[90mLatexify\u001b[39m\n"
     ]
    },
    {
     "name": "stderr",
     "output_type": "stream",
     "text": [
      "\u001b[32m  ✓ \u001b[39m\u001b[90meudev_jll\u001b[39m\n"
     ]
    },
    {
     "name": "stderr",
     "output_type": "stream",
     "text": [
      "\u001b[32m  ✓ \u001b[39m\u001b[90mlibvorbis_jll\u001b[39m\n"
     ]
    },
    {
     "name": "stderr",
     "output_type": "stream",
     "text": [
      "\u001b[32m  ✓ \u001b[39m\u001b[90mOpenSSL\u001b[39m\n"
     ]
    },
    {
     "name": "stderr",
     "output_type": "stream",
     "text": [
      "\u001b[32m  ✓ \u001b[39m\u001b[90mXML2_jll\u001b[39m\n"
     ]
    },
    {
     "name": "stderr",
     "output_type": "stream",
     "text": [
      "\u001b[32m  ✓ \u001b[39m\u001b[90mPixman_jll\u001b[39m\n"
     ]
    },
    {
     "name": "stderr",
     "output_type": "stream",
     "text": [
      "\u001b[32m  ✓ \u001b[39m\u001b[90mFreeType2_jll\u001b[39m\n"
     ]
    },
    {
     "name": "stderr",
     "output_type": "stream",
     "text": [
      "\u001b[32m  ✓ \u001b[39m\u001b[90mStaticArrays\u001b[39m\n"
     ]
    },
    {
     "name": "stderr",
     "output_type": "stream",
     "text": [
      "\u001b[32m  ✓ \u001b[39m\u001b[90mLibgcrypt_jll\u001b[39m\n"
     ]
    },
    {
     "name": "stderr",
     "output_type": "stream",
     "text": [
      "\u001b[32m  ✓ \u001b[39m\u001b[90mCodecZlib\u001b[39m\n"
     ]
    },
    {
     "name": "stderr",
     "output_type": "stream",
     "text": [
      "\u001b[32m  ✓ \u001b[39m\u001b[90mUnitful\u001b[39m\n",
      "\u001b[32m  ✓ \u001b[39m\u001b[90mLibtiff_jll\u001b[39m\n"
     ]
    },
    {
     "name": "stderr",
     "output_type": "stream",
     "text": [
      "\u001b[32m  ✓ \u001b[39m\u001b[90mlibinput_jll\u001b[39m\n",
      "\u001b[32m  ✓ \u001b[39m"
     ]
    },
    {
     "name": "stderr",
     "output_type": "stream",
     "text": [
      "\u001b[90mDataStructures\u001b[39m\n"
     ]
    },
    {
     "name": "stderr",
     "output_type": "stream",
     "text": [
      "\u001b[32m  ✓ \u001b[39m\u001b[90mWayland_jll\u001b[39m\n"
     ]
    },
    {
     "name": "stderr",
     "output_type": "stream",
     "text": [
      "\u001b[32m  ✓ \u001b[39m\u001b[90mGettext_jll\u001b[39m\n"
     ]
    },
    {
     "name": "stderr",
     "output_type": "stream",
     "text": [
      "\u001b[32m  ✓ \u001b[39m\u001b[90mFontconfig_jll\u001b[39m\n"
     ]
    },
    {
     "name": "stderr",
     "output_type": "stream",
     "text": [
      "\u001b[32m  ✓ \u001b[39m\u001b[90mColorTypes\u001b[39m\n"
     ]
    },
    {
     "name": "stderr",
     "output_type": "stream",
     "text": [
      "\u001b[32m  ✓ \u001b[39m\u001b[90mXSLT_jll\u001b[39m\n"
     ]
    },
    {
     "name": "stderr",
     "output_type": "stream",
     "text": [
      "\u001b[32m  ✓ \u001b[39mPyCall\n",
      "\u001b[32m  ✓ \u001b[39m\u001b[90mSortingAlgorithms\u001b[39m\n",
      "\u001b[32m  ✓ \u001b[39m\u001b[90mStaticArrays → StaticArraysStatisticsExt\u001b[39m"
     ]
    },
    {
     "name": "stderr",
     "output_type": "stream",
     "text": [
      "\n"
     ]
    },
    {
     "name": "stderr",
     "output_type": "stream",
     "text": [
      "\u001b[32m  ✓ \u001b[39m\u001b[90mXorg_libxcb_jll\u001b[39m\n"
     ]
    },
    {
     "name": "stderr",
     "output_type": "stream",
     "text": [
      "\u001b[32m  ✓ \u001b[39m\u001b[90mGlib_jll\u001b[39m\n"
     ]
    },
    {
     "name": "stderr",
     "output_type": "stream",
     "text": [
      "\u001b[32m  ✓ \u001b[39m\u001b[90mUnitfulLatexify\u001b[39m\n"
     ]
    },
    {
     "name": "stderr",
     "output_type": "stream",
     "text": [
      "\u001b[32m  ✓ \u001b[39m\u001b[90mXorg_xcb_util_jll\u001b[39m\n"
     ]
    },
    {
     "name": "stderr",
     "output_type": "stream",
     "text": [
      "\u001b[32m  ✓ \u001b[39m\u001b[90mXorg_libX11_jll\u001b[39m\n"
     ]
    },
    {
     "name": "stderr",
     "output_type": "stream",
     "text": [
      "\u001b[32m  ✓ \u001b[39m\u001b[90mColorVectorSpace\u001b[39m\n"
     ]
    },
    {
     "name": "stderr",
     "output_type": "stream",
     "text": [
      "\u001b[32m  ✓ \u001b[39m\u001b[90mStatsBase\u001b[39m\n"
     ]
    },
    {
     "name": "stderr",
     "output_type": "stream",
     "text": [
      "\u001b[32m  ✓ \u001b[39m\u001b[90mHTTP\u001b[39m\n"
     ]
    },
    {
     "name": "stderr",
     "output_type": "stream",
     "text": [
      "\u001b[32m  ✓ \u001b[39m\u001b[90mXorg_xcb_util_image_jll\u001b[39m\n",
      "\u001b[32m  ✓ \u001b[39m\u001b[90mXorg_xcb_util_renderutil_jll\u001b[39m\n"
     ]
    },
    {
     "name": "stderr",
     "output_type": "stream",
     "text": [
      "\u001b[32m  ✓ \u001b[39mColors\n"
     ]
    },
    {
     "name": "stderr",
     "output_type": "stream",
     "text": [
      "\u001b[32m  ✓ \u001b[39m\u001b[90mXorg_xcb_util_keysyms_jll\u001b[39m\n"
     ]
    },
    {
     "name": "stderr",
     "output_type": "stream",
     "text": [
      "\u001b[32m  ✓ \u001b[39m\u001b[90mXorg_libXfixes_jll\u001b[39m\n",
      "\u001b[32m  ✓ \u001b[39m\u001b[90mXorg_xcb_util_wm_jll\u001b[39m\n"
     ]
    },
    {
     "name": "stderr",
     "output_type": "stream",
     "text": [
      "\u001b[32m  ✓ \u001b[39m\u001b[90mXorg_libxkbfile_jll\u001b[39m\n"
     ]
    },
    {
     "name": "stderr",
     "output_type": "stream",
     "text": [
      "\u001b[32m  ✓ \u001b[39m\u001b[90mXorg_libXext_jll\u001b[39m\n"
     ]
    },
    {
     "name": "stderr",
     "output_type": "stream",
     "text": [
      "\u001b[32m  ✓ \u001b[39m\u001b[90mMarchingCubes\u001b[39m\n"
     ]
    },
    {
     "name": "stderr",
     "output_type": "stream",
     "text": [
      "\u001b[32m  ✓ \u001b[39m\u001b[90mXorg_libXrender_jll\u001b[39m\n"
     ]
    },
    {
     "name": "stderr",
     "output_type": "stream",
     "text": [
      "\u001b[32m  ✓ \u001b[39m\u001b[90mXorg_xcb_util_cursor_jll\u001b[39m\n"
     ]
    },
    {
     "name": "stderr",
     "output_type": "stream",
     "text": [
      "\u001b[32m  ✓ \u001b[39m\u001b[90mXorg_xkbcomp_jll\u001b[39m\n"
     ]
    },
    {
     "name": "stderr",
     "output_type": "stream",
     "text": [
      "\u001b[32m  ✓ \u001b[39m\u001b[90mLibglvnd_jll\u001b[39m\n"
     ]
    },
    {
     "name": "stderr",
     "output_type": "stream",
     "text": [
      "\u001b[32m  ✓ \u001b[39m\u001b[90mXorg_libXinerama_jll\u001b[39m\n",
      "\u001b[32m  ✓ \u001b[39m\u001b[90mXorg_libXi_jll\u001b[39m\n"
     ]
    },
    {
     "name": "stderr",
     "output_type": "stream",
     "text": [
      "\u001b[32m  ✓ \u001b[39m\u001b[90mXorg_libXcursor_jll\u001b[39m\n"
     ]
    },
    {
     "name": "stderr",
     "output_type": "stream",
     "text": [
      "\u001b[32m  ✓ \u001b[39m\u001b[90mXorg_libXrandr_jll\u001b[39m\n"
     ]
    },
    {
     "name": "stderr",
     "output_type": "stream",
     "text": [
      "\u001b[32m  ✓ \u001b[39m\u001b[90mXorg_xkeyboard_config_jll\u001b[39m\n"
     ]
    },
    {
     "name": "stderr",
     "output_type": "stream",
     "text": [
      "\u001b[32m  ✓ \u001b[39m\u001b[90mCairo_jll\u001b[39m\n"
     ]
    },
    {
     "name": "stderr",
     "output_type": "stream",
     "text": [
      "\u001b[32m  ✓ \u001b[39m\u001b[90mGLFW_jll\u001b[39m\n"
     ]
    },
    {
     "name": "stderr",
     "output_type": "stream",
     "text": [
      "\u001b[32m  ✓ \u001b[39m\u001b[90mxkbcommon_jll\u001b[39m\n"
     ]
    },
    {
     "name": "stderr",
     "output_type": "stream",
     "text": [
      "\u001b[32m  ✓ \u001b[39m\u001b[90mColorSchemes\u001b[39m\n"
     ]
    },
    {
     "name": "stderr",
     "output_type": "stream",
     "text": [
      "\u001b[32m  ✓ \u001b[39m\u001b[90mHarfBuzz_jll\u001b[39m\n"
     ]
    },
    {
     "name": "stderr",
     "output_type": "stream",
     "text": [
      "\u001b[32m  ✓ \u001b[39m\u001b[90mVulkan_Loader_jll\u001b[39m\n"
     ]
    },
    {
     "name": "stderr",
     "output_type": "stream",
     "text": [
      "\u001b[32m  ✓ \u001b[39m\u001b[90mlibass_jll\u001b[39m\n"
     ]
    },
    {
     "name": "stderr",
     "output_type": "stream",
     "text": [
      "\u001b[32m  ✓ \u001b[39m\u001b[90mFFMPEG_jll\u001b[39m\n"
     ]
    },
    {
     "name": "stderr",
     "output_type": "stream",
     "text": [
      "\u001b[32m  ✓ \u001b[39m\u001b[90mQt6Base_jll\u001b[39m\n"
     ]
    },
    {
     "name": "stderr",
     "output_type": "stream",
     "text": [
      "\u001b[32m  ✓ \u001b[39m\u001b[90mFFMPEG\u001b[39m\n"
     ]
    },
    {
     "name": "stderr",
     "output_type": "stream",
     "text": [
      "\u001b[32m  ✓ \u001b[39m\u001b[90mGR_jll\u001b[39m\n"
     ]
    },
    {
     "name": "stderr",
     "output_type": "stream",
     "text": [
      "\u001b[32m  ✓ \u001b[39m\u001b[90mPlotUtils\u001b[39m\n"
     ]
    },
    {
     "name": "stderr",
     "output_type": "stream",
     "text": [
      "\u001b[32m  ✓ \u001b[39m\u001b[90mGR\u001b[39m\n"
     ]
    },
    {
     "name": "stderr",
     "output_type": "stream",
     "text": [
      "\u001b[32m  ✓ \u001b[39m\u001b[90mPlotThemes\u001b[39m\n"
     ]
    },
    {
     "name": "stderr",
     "output_type": "stream",
     "text": [
      "\u001b[32m  ✓ \u001b[39m\u001b[90mRecipesPipeline\u001b[39m\n"
     ]
    },
    {
     "name": "stderr",
     "output_type": "stream",
     "text": [
      "\u001b[32m  ✓ \u001b[39mUnicodePlots\n"
     ]
    },
    {
     "name": "stderr",
     "output_type": "stream",
     "text": [
      "\u001b[32m  ✓ \u001b[39m\u001b[90mUnicodePlots → UnitfulExt\u001b[39m\n"
     ]
    },
    {
     "name": "stderr",
     "output_type": "stream",
     "text": [
      "\u001b[32m  ✓ \u001b[39mPlots\n"
     ]
    },
    {
     "name": "stderr",
     "output_type": "stream",
     "text": [
      "\u001b[32m  ✓ \u001b[39m\u001b[90mPlots → UnitfulExt\u001b[39m\n",
      "  146 dependencies successfully precompiled in 119 seconds. 15 already precompiled.\n"
     ]
    }
   ],
   "source": [
    "using Pkg\n",
    "Pkg.add(\"Example\")"
   ]
  },
  {
   "cell_type": "markdown",
   "metadata": {},
   "source": [
    "Every time you use Julia (start a new session at the REPL, or open a notebook for the first time, for example), you load the package with the `using` keyword"
   ]
  },
  {
   "cell_type": "code",
   "execution_count": 2,
   "metadata": {},
   "outputs": [],
   "source": [
    "using Example"
   ]
  },
  {
   "cell_type": "markdown",
   "metadata": {},
   "source": [
    "In the source code of `Example.jl` at\n",
    "https://github.com/JuliaLang/Example.jl/blob/master/src/Example.jl\n",
    "we see the following function declared\n",
    "\n",
    "```\n",
    "hello(who::String) = \"Hello, $who\"\n",
    "```\n",
    "\n",
    "Having loaded `Example`, we should now be able to call `hello`"
   ]
  },
  {
   "cell_type": "code",
   "execution_count": 3,
   "metadata": {},
   "outputs": [
    {
     "data": {
      "text/plain": [
       "\"Hello, it's me. I was wondering if after all these years you'd like to meet.\""
      ]
     },
     "metadata": {},
     "output_type": "display_data"
    }
   ],
   "source": [
    "hello(\"it's me. I was wondering if after all these years you'd like to meet.\")"
   ]
  },
  {
   "cell_type": "markdown",
   "metadata": {},
   "source": [
    "Now let's play with the Colors package"
   ]
  },
  {
   "cell_type": "code",
   "execution_count": 4,
   "metadata": {},
   "outputs": [
    {
     "name": "stderr",
     "output_type": "stream",
     "text": [
      "\u001b[32m\u001b[1m   Resolving\u001b[22m\u001b[39m package versions...\n"
     ]
    },
    {
     "name": "stderr",
     "output_type": "stream",
     "text": [
      "\u001b[32m\u001b[1m  No Changes\u001b[22m\u001b[39m to `C:\\Data\\Code\\Introduction-to-Julia\\Project.toml`\n",
      "\u001b[32m\u001b[1m  No Changes\u001b[22m\u001b[39m to `C:\\Data\\Code\\Introduction-to-Julia\\Manifest.toml`\n"
     ]
    }
   ],
   "source": [
    "Pkg.add(\"Colors\")"
   ]
  },
  {
   "cell_type": "code",
   "execution_count": 5,
   "metadata": {},
   "outputs": [],
   "source": [
    "using Colors"
   ]
  },
  {
   "cell_type": "markdown",
   "metadata": {},
   "source": [
    "Let's create a palette of 100 different colors"
   ]
  },
  {
   "cell_type": "code",
   "execution_count": 6,
   "metadata": {},
   "outputs": [
    {
     "data": {
      "image/svg+xml": [
       "<?xml version=\"1.0\" encoding=\"UTF-8\"?>\n",
       "<!DOCTYPE svg PUBLIC \"-//W3C//DTD SVG 1.1//EN\"\n",
       " \"http://www.w3.org/Graphics/SVG/1.1/DTD/svg11.dtd\">\n",
       "<svg xmlns=\"http://www.w3.org/2000/svg\" version=\"1.1\"\n",
       "     width=\"180mm\" height=\"25mm\"\n",
       "     viewBox=\"0 0 100 1\" preserveAspectRatio=\"none\"\n",
       "     shape-rendering=\"crispEdges\" stroke=\"none\">\n",
       "<rect width=\"1\" height=\".96\" x=\"0\" y=\"0\" fill=\"#000000\" />\n",
       "<rect width=\"1\" height=\".96\" x=\"1\" y=\"0\" fill=\"#FFFF74\" />\n",
       "<rect width=\"1\" height=\".96\" x=\"2\" y=\"0\" fill=\"#FF9BFF\" />\n",
       "<rect width=\"1\" height=\".96\" x=\"3\" y=\"0\" fill=\"#00D3FF\" />\n",
       "<rect width=\"1\" height=\".96\" x=\"4\" y=\"0\" fill=\"#E2630D\" />\n",
       "<rect width=\"1\" height=\".96\" x=\"5\" y=\"0\" fill=\"#007E00\" />\n",
       "<rect width=\"1\" height=\".96\" x=\"6\" y=\"0\" fill=\"#0050E6\" />\n",
       "<rect width=\"1\" height=\".96\" x=\"7\" y=\"0\" fill=\"#AC0047\" />\n",
       "<rect width=\"1\" height=\".96\" x=\"8\" y=\"0\" fill=\"#00FFC8\" />\n",
       "<rect width=\"1\" height=\".96\" x=\"9\" y=\"0\" fill=\"#006468\" />\n",
       "<rect width=\"1\" height=\".96\" x=\"10\" y=\"0\" fill=\"#FFD5C4\" />\n",
       "<rect width=\"1\" height=\".96\" x=\"11\" y=\"0\" fill=\"#6C5200\" />\n",
       "<rect width=\"1\" height=\".96\" x=\"12\" y=\"0\" fill=\"#7A7581\" />\n",
       "<rect width=\"1\" height=\".96\" x=\"13\" y=\"0\" fill=\"#44005C\" />\n",
       "<rect width=\"1\" height=\".96\" x=\"14\" y=\"0\" fill=\"#9E9E77\" />\n",
       "<rect width=\"1\" height=\".96\" x=\"15\" y=\"0\" fill=\"#FF5C78\" />\n",
       "<rect width=\"1\" height=\".96\" x=\"16\" y=\"0\" fill=\"#8197F1\" />\n",
       "<rect width=\"1\" height=\".96\" x=\"17\" y=\"0\" fill=\"#003200\" />\n",
       "<rect width=\"1\" height=\".96\" x=\"18\" y=\"0\" fill=\"#C721DD\" />\n",
       "<rect width=\"1\" height=\".96\" x=\"19\" y=\"0\" fill=\"#FFAD07\" />\n",
       "<rect width=\"1\" height=\".96\" x=\"20\" y=\"0\" fill=\"#611C00\" />\n",
       "<rect width=\"1\" height=\".96\" x=\"21\" y=\"0\" fill=\"#F3FFFA\" />\n",
       "<rect width=\"1\" height=\".96\" x=\"22\" y=\"0\" fill=\"#009E88\" />\n",
       "<rect width=\"1\" height=\".96\" x=\"23\" y=\"0\" fill=\"#5EC700\" />\n",
       "<rect width=\"1\" height=\".96\" x=\"24\" y=\"0\" fill=\"#002D54\" />\n",
       "<rect width=\"1\" height=\".96\" x=\"25\" y=\"0\" fill=\"#553C4A\" />\n",
       "<rect width=\"1\" height=\".96\" x=\"26\" y=\"0\" fill=\"#444439\" />\n",
       "<rect width=\"1\" height=\".96\" x=\"27\" y=\"0\" fill=\"#008FB6\" />\n",
       "<rect width=\"1\" height=\".96\" x=\"28\" y=\"0\" fill=\"#CFD4FD\" />\n",
       "<rect width=\"1\" height=\".96\" x=\"29\" y=\"0\" fill=\"#C40000\" />\n",
       "<rect width=\"1\" height=\".96\" x=\"30\" y=\"0\" fill=\"#A4675C\" />\n",
       "<rect width=\"1\" height=\".96\" x=\"31\" y=\"0\" fill=\"#BB8FA8\" />\n",
       "<rect width=\"1\" height=\".96\" x=\"32\" y=\"0\" fill=\"#290001\" />\n",
       "<rect width=\"1\" height=\".96\" x=\"33\" y=\"0\" fill=\"#A78600\" />\n",
       "<rect width=\"1\" height=\".96\" x=\"34\" y=\"0\" fill=\"#002D30\" />\n",
       "<rect width=\"1\" height=\".96\" x=\"35\" y=\"0\" fill=\"#C7DEAA\" />\n",
       "<rect width=\"1\" height=\".96\" x=\"36\" y=\"0\" fill=\"#8D9FA3\" />\n",
       "<rect width=\"1\" height=\".96\" x=\"37\" y=\"0\" fill=\"#6F5B95\" />\n",
       "<rect width=\"1\" height=\".96\" x=\"38\" y=\"0\" fill=\"#A1FFFF\" />\n",
       "<rect width=\"1\" height=\".96\" x=\"39\" y=\"0\" fill=\"#B39688\" />\n",
       "<rect width=\"1\" height=\".96\" x=\"40\" y=\"0\" fill=\"#4E6D50\" />\n",
       "<rect width=\"1\" height=\".96\" x=\"41\" y=\"0\" fill=\"#FF977B\" />\n",
       "<rect width=\"1\" height=\".96\" x=\"42\" y=\"0\" fill=\"#FFD1EC\" />\n",
       "<rect width=\"1\" height=\".96\" x=\"43\" y=\"0\" fill=\"#9E5100\" />\n",
       "<rect width=\"1\" height=\".96\" x=\"44\" y=\"0\" fill=\"#AE5B8E\" />\n",
       "<rect width=\"1\" height=\".96\" x=\"45\" y=\"0\" fill=\"#799400\" />\n",
       "<rect width=\"1\" height=\".96\" x=\"46\" y=\"0\" fill=\"#362200\" />\n",
       "<rect width=\"1\" height=\".96\" x=\"47\" y=\"0\" fill=\"#0E0026\" />\n",
       "<rect width=\"1\" height=\".96\" x=\"48\" y=\"0\" fill=\"#80765F\" />\n",
       "<rect width=\"1\" height=\".96\" x=\"49\" y=\"0\" fill=\"#485C00\" />\n",
       "<rect width=\"1\" height=\".96\" x=\"50\" y=\"0\" fill=\"#C8C2B5\" />\n",
       "<rect width=\"1\" height=\".96\" x=\"51\" y=\"0\" fill=\"#8800A1\" />\n",
       "<rect width=\"1\" height=\".96\" x=\"52\" y=\"0\" fill=\"#00A853\" />\n",
       "<rect width=\"1\" height=\".96\" x=\"53\" y=\"0\" fill=\"#FFE1AA\" />\n",
       "<rect width=\"1\" height=\".96\" x=\"54\" y=\"0\" fill=\"#674F42\" />\n",
       "<rect width=\"1\" height=\".96\" x=\"55\" y=\"0\" fill=\"#FF342D\" />\n",
       "<rect width=\"1\" height=\".96\" x=\"56\" y=\"0\" fill=\"#6B0041\" />\n",
       "<rect width=\"1\" height=\".96\" x=\"57\" y=\"0\" fill=\"#0806B1\" />\n",
       "<rect width=\"1\" height=\".96\" x=\"58\" y=\"0\" fill=\"#986DFF\" />\n",
       "<rect width=\"1\" height=\".96\" x=\"59\" y=\"0\" fill=\"#FF4EC7\" />\n",
       "<rect width=\"1\" height=\".96\" x=\"60\" y=\"0\" fill=\"#8AB9A2\" />\n",
       "<rect width=\"1\" height=\".96\" x=\"61\" y=\"0\" fill=\"#2EFF71\" />\n",
       "<rect width=\"1\" height=\".96\" x=\"62\" y=\"0\" fill=\"#005577\" />\n",
       "<rect width=\"1\" height=\".96\" x=\"63\" y=\"0\" fill=\"#0078E3\" />\n",
       "<rect width=\"1\" height=\".96\" x=\"64\" y=\"0\" fill=\"#B2ADB9\" />\n",
       "<rect width=\"1\" height=\".96\" x=\"65\" y=\"0\" fill=\"#00C3C6\" />\n",
       "<rect width=\"1\" height=\".96\" x=\"66\" y=\"0\" fill=\"#00AEFF\" />\n",
       "<rect width=\"1\" height=\".96\" x=\"67\" y=\"0\" fill=\"#4E545F\" />\n",
       "<rect width=\"1\" height=\".96\" x=\"68\" y=\"0\" fill=\"#FF9BB0\" />\n",
       "<rect width=\"1\" height=\".96\" x=\"69\" y=\"0\" fill=\"#FED206\" />\n",
       "<rect width=\"1\" height=\".96\" x=\"70\" y=\"0\" fill=\"#687B7A\" />\n",
       "<rect width=\"1\" height=\".96\" x=\"71\" y=\"0\" fill=\"#B1DCFC\" />\n",
       "<rect width=\"1\" height=\".96\" x=\"72\" y=\"0\" fill=\"#FFF6FF\" />\n",
       "<rect width=\"1\" height=\".96\" x=\"73\" y=\"0\" fill=\"#620019\" />\n",
       "<rect width=\"1\" height=\".96\" x=\"74\" y=\"0\" fill=\"#C79253\" />\n",
       "<rect width=\"1\" height=\".96\" x=\"75\" y=\"0\" fill=\"#A891CF\" />\n",
       "<rect width=\"1\" height=\".96\" x=\"76\" y=\"0\" fill=\"#EF007A\" />\n",
       "<rect width=\"1\" height=\".96\" x=\"77\" y=\"0\" fill=\"#B8CE00\" />\n",
       "<rect width=\"1\" height=\".96\" x=\"78\" y=\"0\" fill=\"#001700\" />\n",
       "<rect width=\"1\" height=\".96\" x=\"79\" y=\"0\" fill=\"#204B39\" />\n",
       "<rect width=\"1\" height=\".96\" x=\"80\" y=\"0\" fill=\"#875866\" />\n",
       "<rect width=\"1\" height=\".96\" x=\"81\" y=\"0\" fill=\"#B5FF4E\" />\n",
       "<rect width=\"1\" height=\".96\" x=\"82\" y=\"0\" fill=\"#B40080\" />\n",
       "<rect width=\"1\" height=\".96\" x=\"83\" y=\"0\" fill=\"#853F34\" />\n",
       "<rect width=\"1\" height=\".96\" x=\"84\" y=\"0\" fill=\"#69936B\" />\n",
       "<rect width=\"1\" height=\".96\" x=\"85\" y=\"0\" fill=\"#FFBC80\" />\n",
       "<rect width=\"1\" height=\".96\" x=\"86\" y=\"0\" fill=\"#4C3779\" />\n",
       "<rect width=\"1\" height=\".96\" x=\"87\" y=\"0\" fill=\"#323606\" />\n",
       "<rect width=\"1\" height=\".96\" x=\"88\" y=\"0\" fill=\"#008E94\" />\n",
       "<rect width=\"1\" height=\".96\" x=\"89\" y=\"0\" fill=\"#CAAC51\" />\n",
       "<rect width=\"1\" height=\".96\" x=\"90\" y=\"0\" fill=\"#787B3B\" />\n",
       "<rect width=\"1\" height=\".96\" x=\"91\" y=\"0\" fill=\"#B6F9D9\" />\n",
       "<rect width=\"1\" height=\".96\" x=\"92\" y=\"0\" fill=\"#DA003F\" />\n",
       "<rect width=\"1\" height=\".96\" x=\"93\" y=\"0\" fill=\"#2E2124\" />\n",
       "<rect width=\"1\" height=\".96\" x=\"94\" y=\"0\" fill=\"#005815\" />\n",
       "<rect width=\"1\" height=\".96\" x=\"95\" y=\"0\" fill=\"#FF8E1D\" />\n",
       "<rect width=\"1\" height=\".96\" x=\"96\" y=\"0\" fill=\"#6674B1\" />\n",
       "<rect width=\"1\" height=\".96\" x=\"97\" y=\"0\" fill=\"#00CDAD\" />\n",
       "<rect width=\"1\" height=\".96\" x=\"98\" y=\"0\" fill=\"#007F63\" />\n",
       "<rect width=\"1\" height=\".96\" x=\"99\" y=\"0\" fill=\"#996F3D\" />\n",
       "</svg>"
      ],
      "text/plain": [
       "100-element Array{RGB{N0f8},1} with eltype RGB{FixedPointNumbers.N0f8}:\n",
       " RGB{N0f8}(0.0,0.0,0.0)\n",
       " RGB{N0f8}(1.0,1.0,0.455)\n",
       " RGB{N0f8}(1.0,0.608,1.0)\n",
       " RGB{N0f8}(0.0,0.827,1.0)\n",
       " RGB{N0f8}(0.886,0.388,0.051)\n",
       " RGB{N0f8}(0.0,0.494,0.0)\n",
       " RGB{N0f8}(0.0,0.314,0.902)\n",
       " RGB{N0f8}(0.675,0.0,0.278)\n",
       " RGB{N0f8}(0.0,1.0,0.784)\n",
       " RGB{N0f8}(0.0,0.392,0.408)\n",
       " ⋮\n",
       " RGB{N0f8}(0.714,0.976,0.851)\n",
       " RGB{N0f8}(0.855,0.0,0.247)\n",
       " RGB{N0f8}(0.18,0.129,0.141)\n",
       " RGB{N0f8}(0.0,0.345,0.082)\n",
       " RGB{N0f8}(1.0,0.557,0.114)\n",
       " RGB{N0f8}(0.4,0.455,0.694)\n",
       " RGB{N0f8}(0.0,0.804,0.678)\n",
       " RGB{N0f8}(0.0,0.498,0.388)\n",
       " RGB{N0f8}(0.6,0.435,0.239)"
      ]
     },
     "metadata": {},
     "output_type": "display_data"
    }
   ],
   "source": [
    "palette = distinguishable_colors(100)"
   ]
  },
  {
   "cell_type": "markdown",
   "metadata": {},
   "source": [
    "and then we can create a randomly checkered matrix using the `rand` command"
   ]
  },
  {
   "cell_type": "code",
   "execution_count": 7,
   "metadata": {},
   "outputs": [
    {
     "data": {
      "image/svg+xml": [
       "<?xml version=\"1.0\" encoding=\"UTF-8\"?>\n",
       "<!DOCTYPE svg PUBLIC \"-//W3C//DTD SVG 1.1//EN\"\n",
       " \"http://www.w3.org/Graphics/SVG/1.1/DTD/svg11.dtd\">\n",
       "<svg xmlns=\"http://www.w3.org/2000/svg\" version=\"1.1\"\n",
       "     width=\"75mm\" height=\"75mm\"\n",
       "     viewBox=\"0 0 3 3\" preserveAspectRatio=\"none\"\n",
       "     shape-rendering=\"crispEdges\" stroke=\"none\">\n",
       "<rect width=\".96\" height=\".96\" x=\"0\" y=\"0\" fill=\"#00C3C6\" />\n",
       "<rect width=\".96\" height=\".96\" x=\"1\" y=\"0\" fill=\"#B40080\" />\n",
       "<rect width=\".96\" height=\".96\" x=\"2\" y=\"0\" fill=\"#C40000\" />\n",
       "<rect width=\".96\" height=\".96\" x=\"0\" y=\"1\" fill=\"#2E2124\" />\n",
       "<rect width=\".96\" height=\".96\" x=\"1\" y=\"1\" fill=\"#E2630D\" />\n",
       "<rect width=\".96\" height=\".96\" x=\"2\" y=\"1\" fill=\"#FF5C78\" />\n",
       "<rect width=\".96\" height=\".96\" x=\"0\" y=\"2\" fill=\"#FFD5C4\" />\n",
       "<rect width=\".96\" height=\".96\" x=\"1\" y=\"2\" fill=\"#6F5B95\" />\n",
       "<rect width=\".96\" height=\".96\" x=\"2\" y=\"2\" fill=\"#C721DD\" />\n",
       "</svg>"
      ],
      "text/plain": [
       "3×3 Array{RGB{N0f8},2} with eltype RGB{FixedPointNumbers.N0f8}:\n",
       " RGB{N0f8}(0.0,0.765,0.776)   …  RGB{N0f8}(0.769,0.0,0.0)\n",
       " RGB{N0f8}(0.18,0.129,0.141)     RGB{N0f8}(1.0,0.361,0.471)\n",
       " RGB{N0f8}(1.0,0.835,0.769)      RGB{N0f8}(0.78,0.129,0.867)"
      ]
     },
     "metadata": {},
     "output_type": "display_data"
    }
   ],
   "source": [
    "rand(palette, 3, 3)"
   ]
  },
  {
   "cell_type": "markdown",
   "metadata": {},
   "source": [
    "In the next notebook, we'll use a new package to plot datasets."
   ]
  },
  {
   "cell_type": "markdown",
   "metadata": {},
   "source": [
    "### Exercises\n",
    "\n",
    "#### 7.1 \n",
    "Load the Primes package (source code at https://github.com/JuliaMath/Primes.jl )."
   ]
  },
  {
   "cell_type": "code",
   "execution_count": 8,
   "metadata": {},
   "outputs": [
    {
     "name": "stderr",
     "output_type": "stream",
     "text": [
      "\u001b[32m\u001b[1m   Resolving\u001b[22m\u001b[39m package versions...\n"
     ]
    },
    {
     "name": "stderr",
     "output_type": "stream",
     "text": [
      "\u001b[32m\u001b[1m   Installed\u001b[22m\u001b[39m IntegerMathUtils ─ v0.1.2\n"
     ]
    },
    {
     "name": "stderr",
     "output_type": "stream",
     "text": [
      "\u001b[32m\u001b[1m   Installed\u001b[22m\u001b[39m Primes ─────────── v0.5.5\n"
     ]
    },
    {
     "name": "stderr",
     "output_type": "stream",
     "text": [
      "\u001b[32m\u001b[1m    Updating\u001b[22m\u001b[39m `C:\\Data\\Code\\Introduction-to-Julia\\Project.toml`\n",
      "  \u001b[90m[27ebfcd6] \u001b[39m\u001b[92m+ Primes v0.5.5\u001b[39m\n",
      "\u001b[32m\u001b[1m    Updating\u001b[22m\u001b[39m `C:\\Data\\Code\\Introduction-to-Julia\\Manifest.toml`"
     ]
    },
    {
     "name": "stderr",
     "output_type": "stream",
     "text": [
      "\n",
      "  \u001b[90m[18e54dd8] \u001b[39m\u001b[92m+ IntegerMathUtils v0.1.2\u001b[39m\n",
      "  \u001b[90m[27ebfcd6] \u001b[39m\u001b[92m+ Primes v0.5.5\u001b[39m"
     ]
    },
    {
     "name": "stderr",
     "output_type": "stream",
     "text": [
      "\n",
      "\u001b[32m\u001b[1mPrecompiling\u001b[22m\u001b[39m "
     ]
    },
    {
     "name": "stderr",
     "output_type": "stream",
     "text": [
      "project...\n"
     ]
    },
    {
     "name": "stderr",
     "output_type": "stream",
     "text": [
      "\u001b[32m  ✓ \u001b[39m\u001b[90mIntegerMathUtils\u001b[39m\n"
     ]
    },
    {
     "name": "stderr",
     "output_type": "stream",
     "text": [
      "\u001b[32m  ✓ \u001b[39mPrimes\n",
      "  2 dependencies successfully precompiled in 2 seconds. 161 already precompiled.\n"
     ]
    }
   ],
   "source": [
    "Pkg.add(\"Primes\")\n",
    "using Primes"
   ]
  },
  {
   "cell_type": "code",
   "execution_count": 9,
   "metadata": {
    "deletable": false,
    "editable": false,
    "hide_input": true,
    "nbgrader": {
     "checksum": "0c808f5cb8f48b17f8552f00abf2ee09",
     "grade": true,
     "grade_id": "cell-7c4498760f1c26d7",
     "locked": true,
     "points": 1,
     "schema_version": 1,
     "solution": false
    }
   },
   "outputs": [],
   "source": [
    "@assert @isdefined Primes"
   ]
  },
  {
   "cell_type": "markdown",
   "metadata": {},
   "source": [
    "#### 7.2 \n",
    "Verify that you can now use the function `primes` to grab all prime numbers under 1,000,000 and store it in variable `primes_list`"
   ]
  },
  {
   "cell_type": "code",
   "execution_count": 12,
   "metadata": {},
   "outputs": [
    {
     "data": {
      "text/plain": [
       "78498-element Vector{Int64}:\n",
       "      2\n",
       "      3\n",
       "      5\n",
       "      7\n",
       "     11\n",
       "     13\n",
       "     17\n",
       "     19\n",
       "     23\n",
       "     29\n",
       "      ⋮\n",
       " 999883\n",
       " 999907\n",
       " 999917\n",
       " 999931\n",
       " 999953\n",
       " 999959\n",
       " 999961\n",
       " 999979\n",
       " 999983"
      ]
     },
     "metadata": {},
     "output_type": "display_data"
    }
   ],
   "source": [
    "primes_list = primes(1000000)"
   ]
  },
  {
   "cell_type": "code",
   "execution_count": 13,
   "metadata": {
    "deletable": false,
    "editable": false,
    "hide_input": true,
    "nbgrader": {
     "checksum": "ec7f3d8aa43d629a2e57bc4be8525286",
     "grade": true,
     "grade_id": "cell-ab26afd81c0a11ae",
     "locked": true,
     "points": 1,
     "schema_version": 1,
     "solution": false
    }
   },
   "outputs": [],
   "source": [
    "@assert primes_list == primes(1000000)"
   ]
  }
 ],
 "metadata": {
  "kernelspec": {
   "display_name": "Julia 1.10.0",
   "language": "julia",
   "name": "julia-1.10"
  },
  "language_info": {
   "file_extension": ".jl",
   "mimetype": "application/julia",
   "name": "julia",
   "version": "1.10.0"
  }
 },
 "nbformat": 4,
 "nbformat_minor": 4
}
